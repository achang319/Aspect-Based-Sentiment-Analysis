{
 "cells": [
  {
   "cell_type": "code",
   "execution_count": 1,
   "metadata": {},
   "outputs": [],
   "source": [
    "import numpy as np\n",
    "import pandas as pd\n",
    "import string\n",
    "import matplotlib.pyplot as plt\n",
    "from nltk.corpus import stopwords \n",
    "from nltk.stem import PorterStemmer\n",
    "from nltk.stem import WordNetLemmatizer\n",
    "from nltk import word_tokenize\n",
    "from sklearn.feature_extraction.text import TfidfVectorizer, TfidfTransformer\n",
    "from sklearn.feature_extraction.text import CountVectorizer\n",
    "from sklearn.svm import LinearSVC, SVC\n",
    "from sklearn.naive_bayes import MultinomialNB\n",
    "from sklearn.ensemble import RandomForestClassifier,AdaBoostClassifier,GradientBoostingClassifier\n",
    "from sklearn.model_selection import cross_val_predict, cross_val_score\n",
    "from sklearn.metrics import classification_report\n",
    "from sklearn import metrics"
   ]
  },
  {
   "cell_type": "code",
   "execution_count": 2,
   "metadata": {
    "scrolled": true
   },
   "outputs": [
    {
     "data": {
      "text/html": [
       "<div>\n",
       "<style scoped>\n",
       "    .dataframe tbody tr th:only-of-type {\n",
       "        vertical-align: middle;\n",
       "    }\n",
       "\n",
       "    .dataframe tbody tr th {\n",
       "        vertical-align: top;\n",
       "    }\n",
       "\n",
       "    .dataframe thead th {\n",
       "        text-align: right;\n",
       "    }\n",
       "</style>\n",
       "<table border=\"1\" class=\"dataframe\">\n",
       "  <thead>\n",
       "    <tr style=\"text-align: right;\">\n",
       "      <th></th>\n",
       "      <th>text</th>\n",
       "      <th>aspect_term</th>\n",
       "    </tr>\n",
       "  </thead>\n",
       "  <tbody>\n",
       "    <tr>\n",
       "      <th>0</th>\n",
       "      <td>Obviously one of the most important features o...</td>\n",
       "      <td>human interface</td>\n",
       "    </tr>\n",
       "    <tr>\n",
       "      <th>1</th>\n",
       "      <td>Good for every day computing and web browsing.</td>\n",
       "      <td>every day computing</td>\n",
       "    </tr>\n",
       "    <tr>\n",
       "      <th>2</th>\n",
       "      <td>while the keyboard itself is alright[comma] th...</td>\n",
       "      <td>mouse command buttons</td>\n",
       "    </tr>\n",
       "    <tr>\n",
       "      <th>3</th>\n",
       "      <td>Again[comma] the same problem[comma] the right...</td>\n",
       "      <td>right speaker</td>\n",
       "    </tr>\n",
       "    <tr>\n",
       "      <th>4</th>\n",
       "      <td>My problem was with DELL Customer Service.</td>\n",
       "      <td>DELL Customer Service</td>\n",
       "    </tr>\n",
       "  </tbody>\n",
       "</table>\n",
       "</div>"
      ],
      "text/plain": [
       "                                                text            aspect_term\n",
       "0  Obviously one of the most important features o...        human interface\n",
       "1     Good for every day computing and web browsing.    every day computing\n",
       "2  while the keyboard itself is alright[comma] th...  mouse command buttons\n",
       "3  Again[comma] the same problem[comma] the right...          right speaker\n",
       "4         My problem was with DELL Customer Service.  DELL Customer Service"
      ]
     },
     "execution_count": 2,
     "metadata": {},
     "output_type": "execute_result"
    }
   ],
   "source": [
    "# importing training data\n",
    "df = pd.read_csv('./datasets/computer_train.csv')\n",
    "df.columns = ['example_id','text','aspect_term','term_location','class']\n",
    "df[['text', 'aspect_term']].head()"
   ]
  },
  {
   "cell_type": "code",
   "execution_count": 3,
   "metadata": {},
   "outputs": [
    {
     "data": {
      "text/plain": [
       "(2203, 5)"
      ]
     },
     "execution_count": 3,
     "metadata": {},
     "output_type": "execute_result"
    }
   ],
   "source": [
    "df.shape"
   ]
  },
  {
   "cell_type": "code",
   "execution_count": 4,
   "metadata": {},
   "outputs": [
    {
     "data": {
      "text/html": [
       "<div>\n",
       "<style scoped>\n",
       "    .dataframe tbody tr th:only-of-type {\n",
       "        vertical-align: middle;\n",
       "    }\n",
       "\n",
       "    .dataframe tbody tr th {\n",
       "        vertical-align: top;\n",
       "    }\n",
       "\n",
       "    .dataframe thead th {\n",
       "        text-align: right;\n",
       "    }\n",
       "</style>\n",
       "<table border=\"1\" class=\"dataframe\">\n",
       "  <thead>\n",
       "    <tr style=\"text-align: right;\">\n",
       "      <th></th>\n",
       "      <th>example_id</th>\n",
       "      <th>text</th>\n",
       "      <th>aspect_term</th>\n",
       "      <th>term_location</th>\n",
       "    </tr>\n",
       "  </thead>\n",
       "  <tbody>\n",
       "    <tr>\n",
       "      <th>0</th>\n",
       "      <td>494:1_0</td>\n",
       "      <td>Buy the separate RAM memory and you will have ...</td>\n",
       "      <td>RAM memory</td>\n",
       "      <td>17--27</td>\n",
       "    </tr>\n",
       "    <tr>\n",
       "      <th>1</th>\n",
       "      <td>311:18_1</td>\n",
       "      <td>But with this laptop[comma] the bass is very w...</td>\n",
       "      <td>sound</td>\n",
       "      <td>52--57</td>\n",
       "    </tr>\n",
       "    <tr>\n",
       "      <th>2</th>\n",
       "      <td>256:1_0</td>\n",
       "      <td>This hardware seems to be better than the iMac...</td>\n",
       "      <td>hardware</td>\n",
       "      <td>5--13</td>\n",
       "    </tr>\n",
       "    <tr>\n",
       "      <th>3</th>\n",
       "      <td>748:1_0</td>\n",
       "      <td>It is very easy to navigate even for a novice.</td>\n",
       "      <td>navigate</td>\n",
       "      <td>19--27</td>\n",
       "    </tr>\n",
       "    <tr>\n",
       "      <th>4</th>\n",
       "      <td>128:1_0</td>\n",
       "      <td>Amazing Performance for anything I throw at it.</td>\n",
       "      <td>Performance</td>\n",
       "      <td>8--19</td>\n",
       "    </tr>\n",
       "  </tbody>\n",
       "</table>\n",
       "</div>"
      ],
      "text/plain": [
       "  example_id                                               text  aspect_term  \\\n",
       "0    494:1_0  Buy the separate RAM memory and you will have ...   RAM memory   \n",
       "1   311:18_1  But with this laptop[comma] the bass is very w...        sound   \n",
       "2    256:1_0  This hardware seems to be better than the iMac...     hardware   \n",
       "3    748:1_0     It is very easy to navigate even for a novice.     navigate   \n",
       "4    128:1_0    Amazing Performance for anything I throw at it.  Performance   \n",
       "\n",
       "  term_location  \n",
       "0        17--27  \n",
       "1        52--57  \n",
       "2         5--13  \n",
       "3        19--27  \n",
       "4         8--19  "
      ]
     },
     "execution_count": 4,
     "metadata": {},
     "output_type": "execute_result"
    }
   ],
   "source": [
    "# importing testing data\n",
    "df_test1 = pd.read_csv('./datasets/computer_test.csv')\n",
    "df_test1.columns = ['example_id','text','aspect_term','term_location']\n",
    "df_test1.head()"
   ]
  },
  {
   "cell_type": "code",
   "execution_count": 5,
   "metadata": {},
   "outputs": [],
   "source": [
    "def text_prep(text):\n",
    "    text = text.replace(\"[comma]\", \"\")\n",
    "    no_punct = [char for char in text if char not in string.punctuation]\n",
    "    text = \"\".join(no_punct)\n",
    "    text = [WordNetLemmatizer().lemmatize(text, pos='v') for text in text.lower().split() if text not in set(stopwords.words('english'))] \n",
    "    text = \" \".join(text)\n",
    "    return word_tokenize(text)"
   ]
  },
  {
   "cell_type": "code",
   "execution_count": 6,
   "metadata": {},
   "outputs": [],
   "source": [
    "def get_weights(x):\n",
    "    text = x[0]\n",
    "    aspect = x[1]\n",
    "    if set(aspect) <= set(text):\n",
    "        left_weights = right_weights = []\n",
    "        start_list= [i for i, x in enumerate(text) if x == aspect[0]]\n",
    "        for q in (start_list):\n",
    "            if  text[(q + len(aspect) - 1)] == aspect[-1]:\n",
    "                start_index = q\n",
    "                end_index = q + len(aspect) - 1\n",
    "                break\n",
    "        if (end_index - start_index) == len(aspect) - 1:\n",
    "            left_text = text[:start_index]\n",
    "            right_text = text[end_index+1:]\n",
    "            left_weights = [1/i for i in range(len(left_text),0,-1) if len(left_text) != 0]\n",
    "            right_weights = [1/i for i in range(1,len(right_text)+1) if len(right_text) != 0]\n",
    "        total_weights = left_weights + [2]*len(aspect) + right_weights\n",
    "        return dict(zip(text,total_weights))\n",
    "    else: \n",
    "        return np.nan"
   ]
  },
  {
   "cell_type": "markdown",
   "metadata": {},
   "source": [
    "## Data Preprocessing"
   ]
  },
  {
   "cell_type": "code",
   "execution_count": 7,
   "metadata": {},
   "outputs": [
    {
     "data": {
      "text/html": [
       "<div>\n",
       "<style scoped>\n",
       "    .dataframe tbody tr th:only-of-type {\n",
       "        vertical-align: middle;\n",
       "    }\n",
       "\n",
       "    .dataframe tbody tr th {\n",
       "        vertical-align: top;\n",
       "    }\n",
       "\n",
       "    .dataframe thead th {\n",
       "        text-align: right;\n",
       "    }\n",
       "</style>\n",
       "<table border=\"1\" class=\"dataframe\">\n",
       "  <thead>\n",
       "    <tr style=\"text-align: right;\">\n",
       "      <th></th>\n",
       "      <th>prep_text</th>\n",
       "      <th>prep_aspect_term</th>\n",
       "    </tr>\n",
       "  </thead>\n",
       "  <tbody>\n",
       "    <tr>\n",
       "      <th>0</th>\n",
       "      <td>[obviously, one, important, feature, computer,...</td>\n",
       "      <td>[human, interface]</td>\n",
       "    </tr>\n",
       "    <tr>\n",
       "      <th>1</th>\n",
       "      <td>[good, every, day, compute, web, browse]</td>\n",
       "      <td>[every, day, compute]</td>\n",
       "    </tr>\n",
       "    <tr>\n",
       "      <th>2</th>\n",
       "      <td>[keyboard, alright, plate, around, cheap, plas...</td>\n",
       "      <td>[mouse, command, button]</td>\n",
       "    </tr>\n",
       "    <tr>\n",
       "      <th>3</th>\n",
       "      <td>[problem, right, speaker, work]</td>\n",
       "      <td>[right, speaker]</td>\n",
       "    </tr>\n",
       "    <tr>\n",
       "      <th>4</th>\n",
       "      <td>[problem, dell, customer, service]</td>\n",
       "      <td>[dell, customer, service]</td>\n",
       "    </tr>\n",
       "  </tbody>\n",
       "</table>\n",
       "</div>"
      ],
      "text/plain": [
       "                                           prep_text  \\\n",
       "0  [obviously, one, important, feature, computer,...   \n",
       "1           [good, every, day, compute, web, browse]   \n",
       "2  [keyboard, alright, plate, around, cheap, plas...   \n",
       "3                    [problem, right, speaker, work]   \n",
       "4                 [problem, dell, customer, service]   \n",
       "\n",
       "            prep_aspect_term  \n",
       "0         [human, interface]  \n",
       "1      [every, day, compute]  \n",
       "2   [mouse, command, button]  \n",
       "3           [right, speaker]  \n",
       "4  [dell, customer, service]  "
      ]
     },
     "execution_count": 7,
     "metadata": {},
     "output_type": "execute_result"
    }
   ],
   "source": [
    "# preprocess text and aspect_term columns\n",
    "df['prep_text'] = df['text'].apply(text_prep)\n",
    "df['prep_aspect_term'] = df['aspect_term'].apply(text_prep)\n",
    "df[['prep_text', 'prep_aspect_term']].head()"
   ]
  },
  {
   "cell_type": "code",
   "execution_count": 8,
   "metadata": {},
   "outputs": [
    {
     "data": {
      "text/html": [
       "<div>\n",
       "<style scoped>\n",
       "    .dataframe tbody tr th:only-of-type {\n",
       "        vertical-align: middle;\n",
       "    }\n",
       "\n",
       "    .dataframe tbody tr th {\n",
       "        vertical-align: top;\n",
       "    }\n",
       "\n",
       "    .dataframe thead th {\n",
       "        text-align: right;\n",
       "    }\n",
       "</style>\n",
       "<table border=\"1\" class=\"dataframe\">\n",
       "  <thead>\n",
       "    <tr style=\"text-align: right;\">\n",
       "      <th></th>\n",
       "      <th>prep_test1_text</th>\n",
       "      <th>prep_test1_aspect_term</th>\n",
       "    </tr>\n",
       "  </thead>\n",
       "  <tbody>\n",
       "    <tr>\n",
       "      <th>0</th>\n",
       "      <td>[buy, separate, ram, memory, rocket]</td>\n",
       "      <td>[ram, memory]</td>\n",
       "    </tr>\n",
       "    <tr>\n",
       "      <th>1</th>\n",
       "      <td>[laptop, bass, weak, sound, come, sound, tinny]</td>\n",
       "      <td>[sound]</td>\n",
       "    </tr>\n",
       "    <tr>\n",
       "      <th>2</th>\n",
       "      <td>[hardware, seem, better, imac, isnt, 1400, sma...</td>\n",
       "      <td>[hardware]</td>\n",
       "    </tr>\n",
       "    <tr>\n",
       "      <th>3</th>\n",
       "      <td>[easy, navigate, even, novice]</td>\n",
       "      <td>[navigate]</td>\n",
       "    </tr>\n",
       "    <tr>\n",
       "      <th>4</th>\n",
       "      <td>[amaze, performance, anything, throw]</td>\n",
       "      <td>[performance]</td>\n",
       "    </tr>\n",
       "  </tbody>\n",
       "</table>\n",
       "</div>"
      ],
      "text/plain": [
       "                                     prep_test1_text prep_test1_aspect_term\n",
       "0               [buy, separate, ram, memory, rocket]          [ram, memory]\n",
       "1    [laptop, bass, weak, sound, come, sound, tinny]                [sound]\n",
       "2  [hardware, seem, better, imac, isnt, 1400, sma...             [hardware]\n",
       "3                     [easy, navigate, even, novice]             [navigate]\n",
       "4              [amaze, performance, anything, throw]          [performance]"
      ]
     },
     "execution_count": 8,
     "metadata": {},
     "output_type": "execute_result"
    }
   ],
   "source": [
    "# preprocessing testing data\n",
    "df_test1['prep_test1_text'] = df_test1['text'].apply(text_prep)\n",
    "df_test1['prep_test1_aspect_term'] = df_test1['aspect_term'].apply(text_prep)\n",
    "df_test1[['prep_test1_text', 'prep_test1_aspect_term']].head()"
   ]
  },
  {
   "cell_type": "markdown",
   "metadata": {},
   "source": [
    "## Assigning weights"
   ]
  },
  {
   "cell_type": "code",
   "execution_count": 9,
   "metadata": {},
   "outputs": [
    {
     "data": {
      "text/plain": [
       "{'obviously': 0.2,\n",
       " 'one': 0.25,\n",
       " 'important': 0.3333333333333333,\n",
       " 'feature': 0.5,\n",
       " 'computer': 1.0,\n",
       " 'human': 2,\n",
       " 'interface': 2}"
      ]
     },
     "execution_count": 9,
     "metadata": {},
     "output_type": "execute_result"
    }
   ],
   "source": [
    "# weighing training data\n",
    "df['weights_score'] = df[['prep_text','prep_aspect_term']].apply(get_weights, axis = 1)\n",
    "df = df.dropna()\n",
    "df.iloc[0]['weights_score']"
   ]
  },
  {
   "cell_type": "code",
   "execution_count": 10,
   "metadata": {},
   "outputs": [
    {
     "data": {
      "text/html": [
       "<div>\n",
       "<style scoped>\n",
       "    .dataframe tbody tr th:only-of-type {\n",
       "        vertical-align: middle;\n",
       "    }\n",
       "\n",
       "    .dataframe tbody tr th {\n",
       "        vertical-align: top;\n",
       "    }\n",
       "\n",
       "    .dataframe thead th {\n",
       "        text-align: right;\n",
       "    }\n",
       "</style>\n",
       "<table border=\"1\" class=\"dataframe\">\n",
       "  <thead>\n",
       "    <tr style=\"text-align: right;\">\n",
       "      <th></th>\n",
       "      <th>example_id</th>\n",
       "      <th>text</th>\n",
       "      <th>aspect_term</th>\n",
       "      <th>term_location</th>\n",
       "      <th>prep_test1_text</th>\n",
       "      <th>prep_test1_aspect_term</th>\n",
       "      <th>test1_weights_score</th>\n",
       "    </tr>\n",
       "  </thead>\n",
       "  <tbody>\n",
       "    <tr>\n",
       "      <th>0</th>\n",
       "      <td>494:1_0</td>\n",
       "      <td>Buy the separate RAM memory and you will have ...</td>\n",
       "      <td>RAM memory</td>\n",
       "      <td>17--27</td>\n",
       "      <td>[buy, separate, ram, memory, rocket]</td>\n",
       "      <td>[ram, memory]</td>\n",
       "      <td>{'buy': 0.5, 'separate': 1.0, 'ram': 2, 'memor...</td>\n",
       "    </tr>\n",
       "    <tr>\n",
       "      <th>1</th>\n",
       "      <td>311:18_1</td>\n",
       "      <td>But with this laptop[comma] the bass is very w...</td>\n",
       "      <td>sound</td>\n",
       "      <td>52--57</td>\n",
       "      <td>[laptop, bass, weak, sound, come, sound, tinny]</td>\n",
       "      <td>[sound]</td>\n",
       "      <td>{'laptop': 0.3333333333333333, 'bass': 0.5, 'w...</td>\n",
       "    </tr>\n",
       "    <tr>\n",
       "      <th>2</th>\n",
       "      <td>256:1_0</td>\n",
       "      <td>This hardware seems to be better than the iMac...</td>\n",
       "      <td>hardware</td>\n",
       "      <td>5--13</td>\n",
       "      <td>[hardware, seem, better, imac, isnt, 1400, sma...</td>\n",
       "      <td>[hardware]</td>\n",
       "      <td>{'hardware': 2, 'seem': 1.0, 'better': 0.5, 'i...</td>\n",
       "    </tr>\n",
       "    <tr>\n",
       "      <th>3</th>\n",
       "      <td>748:1_0</td>\n",
       "      <td>It is very easy to navigate even for a novice.</td>\n",
       "      <td>navigate</td>\n",
       "      <td>19--27</td>\n",
       "      <td>[easy, navigate, even, novice]</td>\n",
       "      <td>[navigate]</td>\n",
       "      <td>{'easy': 1.0, 'navigate': 2, 'even': 1.0, 'nov...</td>\n",
       "    </tr>\n",
       "    <tr>\n",
       "      <th>4</th>\n",
       "      <td>128:1_0</td>\n",
       "      <td>Amazing Performance for anything I throw at it.</td>\n",
       "      <td>Performance</td>\n",
       "      <td>8--19</td>\n",
       "      <td>[amaze, performance, anything, throw]</td>\n",
       "      <td>[performance]</td>\n",
       "      <td>{'amaze': 1.0, 'performance': 2, 'anything': 1...</td>\n",
       "    </tr>\n",
       "  </tbody>\n",
       "</table>\n",
       "</div>"
      ],
      "text/plain": [
       "  example_id                                               text  aspect_term  \\\n",
       "0    494:1_0  Buy the separate RAM memory and you will have ...   RAM memory   \n",
       "1   311:18_1  But with this laptop[comma] the bass is very w...        sound   \n",
       "2    256:1_0  This hardware seems to be better than the iMac...     hardware   \n",
       "3    748:1_0     It is very easy to navigate even for a novice.     navigate   \n",
       "4    128:1_0    Amazing Performance for anything I throw at it.  Performance   \n",
       "\n",
       "  term_location                                    prep_test1_text  \\\n",
       "0        17--27               [buy, separate, ram, memory, rocket]   \n",
       "1        52--57    [laptop, bass, weak, sound, come, sound, tinny]   \n",
       "2         5--13  [hardware, seem, better, imac, isnt, 1400, sma...   \n",
       "3        19--27                     [easy, navigate, even, novice]   \n",
       "4         8--19              [amaze, performance, anything, throw]   \n",
       "\n",
       "  prep_test1_aspect_term                                test1_weights_score  \n",
       "0          [ram, memory]  {'buy': 0.5, 'separate': 1.0, 'ram': 2, 'memor...  \n",
       "1                [sound]  {'laptop': 0.3333333333333333, 'bass': 0.5, 'w...  \n",
       "2             [hardware]  {'hardware': 2, 'seem': 1.0, 'better': 0.5, 'i...  \n",
       "3             [navigate]  {'easy': 1.0, 'navigate': 2, 'even': 1.0, 'nov...  \n",
       "4          [performance]  {'amaze': 1.0, 'performance': 2, 'anything': 1...  "
      ]
     },
     "execution_count": 10,
     "metadata": {},
     "output_type": "execute_result"
    }
   ],
   "source": [
    "# weighing testing data\n",
    "df_test1['test1_weights_score'] = df_test1[['prep_test1_text','prep_test1_aspect_term']].apply(get_weights, axis = 1)\n",
    "df_test1 = df_test1.dropna()\n",
    "# df_test1.iloc[1]['test1_weights_score']\n",
    "df_test1.head()"
   ]
  },
  {
   "cell_type": "markdown",
   "metadata": {},
   "source": [
    "## Vectorizing data using CountVectorizer and Tf-idf Transformer"
   ]
  },
  {
   "cell_type": "code",
   "execution_count": 11,
   "metadata": {},
   "outputs": [],
   "source": [
    "# training data vectorized\n",
    "vec = CountVectorizer()\n",
    "doc_matrix = vec.fit_transform(df['text'])\n",
    "vocab = list(vec.vocabulary_.keys())\n",
    "df_weights = pd.DataFrame(np.zeros((len(df),len(vocab))),columns=vocab)\n",
    "for row in range(len(df)):\n",
    "    for key,value in df.iloc[row]['weights_score'].items():\n",
    "        df_weights.iloc[row][key] = value\n",
    "tfidf_vec = TfidfTransformer()\n",
    "tfidf = tfidf_vec.fit_transform(df_weights)"
   ]
  },
  {
   "cell_type": "code",
   "execution_count": 12,
   "metadata": {},
   "outputs": [],
   "source": [
    "# testing data vectorized\n",
    "test1_doc_matrix = vec.transform(df_test1['text'])\n",
    "test1_vocab = list(vec.vocabulary_.keys())\n",
    "df_test1_weights = pd.DataFrame(np.zeros((len(df_test1),len(test1_vocab))),columns=test1_vocab)\n",
    "for row in range(len(df_test1)):\n",
    "    for key,value in df_test1.iloc[row]['test1_weights_score'].items():\n",
    "        df_test1_weights.iloc[row][key] = value\n",
    "\n",
    "test1_tfidf = tfidf_vec.transform(df_test1_weights)"
   ]
  },
  {
   "cell_type": "markdown",
   "metadata": {},
   "source": [
    "## Random Forest"
   ]
  },
  {
   "cell_type": "code",
   "execution_count": 13,
   "metadata": {},
   "outputs": [
    {
     "data": {
      "text/plain": [
       "0.7147435897435898"
      ]
     },
     "execution_count": 13,
     "metadata": {},
     "output_type": "execute_result"
    }
   ],
   "source": [
    "# Choosing Random Forest Classifier as our final model\n",
    "rfc = RandomForestClassifier(n_estimators=50,max_depth=2000, n_jobs = -1)\n",
    "crv_rfc = cross_val_predict(rfc,tfidf,df['class'],cv = 10)\n",
    "np.mean(crv_rfc == df['class'])"
   ]
  },
  {
   "cell_type": "code",
   "execution_count": 14,
   "metadata": {},
   "outputs": [
    {
     "name": "stdout",
     "output_type": "stream",
     "text": [
      "\n",
      " Classification Report \n",
      "                precision    recall  f1-score   support\n",
      "\n",
      "          -1       0.81      0.67      0.73       999\n",
      "           0       0.36      0.68      0.47       228\n",
      "           1       0.79      0.77      0.78       957\n",
      "\n",
      "    accuracy                           0.71      2184\n",
      "   macro avg       0.66      0.71      0.66      2184\n",
      "weighted avg       0.76      0.71      0.73      2184\n",
      "\n"
     ]
    }
   ],
   "source": [
    "Y = df['class']\n",
    "print(\"\\n Classification Report \\n \", classification_report(crv_rfc,Y))\n",
    "rfc = RandomForestClassifier(n_estimators=50,max_depth=2000).fit(tfidf, df['class'])\n",
    "test_rfc = rfc.predict(test1_tfidf)"
   ]
  },
  {
   "cell_type": "markdown",
   "metadata": {},
   "source": [
    "# AdaBoost"
   ]
  },
  {
   "cell_type": "code",
   "execution_count": null,
   "metadata": {},
   "outputs": [],
   "source": [
    "boost = AdaBoostClassifier(n_estimators=100)\n",
    "crv_boost = cross_val_predict(boost,tfidf,df['class'],cv = 10)\n",
    "np.mean(crv_boost == df['class'])"
   ]
  },
  {
   "cell_type": "code",
   "execution_count": null,
   "metadata": {},
   "outputs": [],
   "source": [
    "Y = df['class']\n",
    "print(\"\\n Classification Report \\n \", classification_report(crv_boost,Y))\n",
    "boost = AdaBoostClassifier(n_estimators=100).fit(tfidf, df['class'])\n",
    "test_boost = boost.predict(test1_tfidf)"
   ]
  },
  {
   "cell_type": "markdown",
   "metadata": {},
   "source": [
    "## Output file"
   ]
  },
  {
   "cell_type": "code",
   "execution_count": null,
   "metadata": {},
   "outputs": [],
   "source": [
    "# Please remember to delete the txt file created before otherwise it will append to the previous results\n",
    "\n",
    "with open('Result.txt', 'a') as out:\n",
    "    for i,j in zip(df_test1['example_id'],test_rfc):\n",
    "        out.write(str(i) + \";;\" + str(j) + \"\\n\")"
   ]
  },
  {
   "cell_type": "markdown",
   "metadata": {},
   "source": [
    "## Linear Support Vector Machine"
   ]
  },
  {
   "cell_type": "code",
   "execution_count": null,
   "metadata": {},
   "outputs": [],
   "source": [
    "svm = LinearSVC()\n",
    "crv_svm = cross_val_predict(svm,tfidf,df['class'],cv = 10)\n",
    "np.mean(crv_svm == df['class'])\n"
   ]
  },
  {
   "cell_type": "code",
   "execution_count": null,
   "metadata": {},
   "outputs": [],
   "source": [
    "Y = df['class']\n",
    "print(\"\\n Classification Report \\n \", classification_report(crv_svm,Y))"
   ]
  },
  {
   "cell_type": "markdown",
   "metadata": {},
   "source": [
    "## Multinomial Naive Bayes"
   ]
  },
  {
   "cell_type": "code",
   "execution_count": null,
   "metadata": {},
   "outputs": [],
   "source": [
    "mnb = MultinomialNB()\n",
    "crv_mnb = cross_val_predict(mnb,tfidf,df['class'],cv = 10)\n",
    "np.mean(crv_mnb == df['class'])\n"
   ]
  },
  {
   "cell_type": "code",
   "execution_count": null,
   "metadata": {},
   "outputs": [],
   "source": [
    "Y = df['class']\n",
    "print(\"\\n Classification Report \\n \", classification_report(crv_mnb,Y))"
   ]
  },
  {
   "cell_type": "code",
   "execution_count": null,
   "metadata": {},
   "outputs": [],
   "source": []
  }
 ],
 "metadata": {
  "kernelspec": {
   "display_name": "Python 3",
   "language": "python",
   "name": "python3"
  },
  "language_info": {
   "codemirror_mode": {
    "name": "ipython",
    "version": 3
   },
   "file_extension": ".py",
   "mimetype": "text/x-python",
   "name": "python",
   "nbconvert_exporter": "python",
   "pygments_lexer": "ipython3",
   "version": "3.7.3"
  }
 },
 "nbformat": 4,
 "nbformat_minor": 2
}
