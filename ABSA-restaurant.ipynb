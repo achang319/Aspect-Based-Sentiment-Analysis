{
 "cells": [
  {
   "cell_type": "code",
   "execution_count": 1,
   "metadata": {},
   "outputs": [],
   "source": [
    "import numpy as np\n",
    "import pandas as pd\n",
    "import string\n",
    "import matplotlib.pyplot as plt\n",
    "from nltk.corpus import stopwords \n",
    "from nltk.stem import PorterStemmer\n",
    "from nltk.stem import WordNetLemmatizer\n",
    "from nltk import word_tokenize\n",
    "from sklearn.feature_extraction.text import TfidfVectorizer, TfidfTransformer\n",
    "from sklearn.feature_extraction.text import CountVectorizer\n",
    "from sklearn.svm import LinearSVC\n",
    "from sklearn.naive_bayes import MultinomialNB\n",
    "from sklearn.ensemble import RandomForestClassifier\n",
    "from sklearn.model_selection import cross_val_predict\n",
    "from sklearn.metrics import classification_report"
   ]
  },
  {
   "cell_type": "code",
   "execution_count": 2,
   "metadata": {},
   "outputs": [
    {
     "data": {
      "text/html": [
       "<div>\n",
       "<style scoped>\n",
       "    .dataframe tbody tr th:only-of-type {\n",
       "        vertical-align: middle;\n",
       "    }\n",
       "\n",
       "    .dataframe tbody tr th {\n",
       "        vertical-align: top;\n",
       "    }\n",
       "\n",
       "    .dataframe thead th {\n",
       "        text-align: right;\n",
       "    }\n",
       "</style>\n",
       "<table border=\"1\" class=\"dataframe\">\n",
       "  <thead>\n",
       "    <tr style=\"text-align: right;\">\n",
       "      <th></th>\n",
       "      <th>example_id</th>\n",
       "      <th>text</th>\n",
       "      <th>aspect_term</th>\n",
       "      <th>term_location</th>\n",
       "      <th>class</th>\n",
       "    </tr>\n",
       "  </thead>\n",
       "  <tbody>\n",
       "    <tr>\n",
       "      <th>0</th>\n",
       "      <td>3121_0</td>\n",
       "      <td>But the staff was so horrible to us.</td>\n",
       "      <td>staff</td>\n",
       "      <td>8--13</td>\n",
       "      <td>-1</td>\n",
       "    </tr>\n",
       "    <tr>\n",
       "      <th>1</th>\n",
       "      <td>2777_0</td>\n",
       "      <td>To be completely fair[comma] the only redeemin...</td>\n",
       "      <td>food</td>\n",
       "      <td>57--61</td>\n",
       "      <td>1</td>\n",
       "    </tr>\n",
       "    <tr>\n",
       "      <th>2</th>\n",
       "      <td>1634_0</td>\n",
       "      <td>The food is uniformly exceptional[comma] with ...</td>\n",
       "      <td>food</td>\n",
       "      <td>4--8</td>\n",
       "      <td>1</td>\n",
       "    </tr>\n",
       "    <tr>\n",
       "      <th>3</th>\n",
       "      <td>1634_1</td>\n",
       "      <td>The food is uniformly exceptional[comma] with ...</td>\n",
       "      <td>kitchen</td>\n",
       "      <td>55--62</td>\n",
       "      <td>1</td>\n",
       "    </tr>\n",
       "    <tr>\n",
       "      <th>4</th>\n",
       "      <td>1634_2</td>\n",
       "      <td>The food is uniformly exceptional[comma] with ...</td>\n",
       "      <td>menu</td>\n",
       "      <td>141--145</td>\n",
       "      <td>0</td>\n",
       "    </tr>\n",
       "  </tbody>\n",
       "</table>\n",
       "</div>"
      ],
      "text/plain": [
       "  example_id                                               text aspect_term  \\\n",
       "0     3121_0               But the staff was so horrible to us.       staff   \n",
       "1     2777_0  To be completely fair[comma] the only redeemin...        food   \n",
       "2     1634_0  The food is uniformly exceptional[comma] with ...        food   \n",
       "3     1634_1  The food is uniformly exceptional[comma] with ...     kitchen   \n",
       "4     1634_2  The food is uniformly exceptional[comma] with ...        menu   \n",
       "\n",
       "  term_location  class  \n",
       "0         8--13     -1  \n",
       "1        57--61      1  \n",
       "2          4--8      1  \n",
       "3        55--62      1  \n",
       "4      141--145      0  "
      ]
     },
     "execution_count": 2,
     "metadata": {},
     "output_type": "execute_result"
    }
   ],
   "source": [
    "# importing training data\n",
    "df = pd.read_csv('restaurant_train.csv')\n",
    "df.columns = ['example_id','text','aspect_term','term_location','class']\n",
    "df.head()"
   ]
  },
  {
   "cell_type": "code",
   "execution_count": 3,
   "metadata": {},
   "outputs": [
    {
     "data": {
      "text/html": [
       "<div>\n",
       "<style scoped>\n",
       "    .dataframe tbody tr th:only-of-type {\n",
       "        vertical-align: middle;\n",
       "    }\n",
       "\n",
       "    .dataframe tbody tr th {\n",
       "        vertical-align: top;\n",
       "    }\n",
       "\n",
       "    .dataframe thead th {\n",
       "        text-align: right;\n",
       "    }\n",
       "</style>\n",
       "<table border=\"1\" class=\"dataframe\">\n",
       "  <thead>\n",
       "    <tr style=\"text-align: right;\">\n",
       "      <th></th>\n",
       "      <th>example_id</th>\n",
       "      <th>text</th>\n",
       "      <th>aspect_term</th>\n",
       "      <th>term_location</th>\n",
       "    </tr>\n",
       "  </thead>\n",
       "  <tbody>\n",
       "    <tr>\n",
       "      <th>0</th>\n",
       "      <td>32933228#1700177#1_2</td>\n",
       "      <td>I reccomend the fried pork dumplings[comma] th...</td>\n",
       "      <td>fried rice</td>\n",
       "      <td>71--81</td>\n",
       "    </tr>\n",
       "    <tr>\n",
       "      <th>1</th>\n",
       "      <td>35820984#608922#3_0</td>\n",
       "      <td>The staff is very sharp and they look good too.</td>\n",
       "      <td>staff</td>\n",
       "      <td>4--9</td>\n",
       "    </tr>\n",
       "    <tr>\n",
       "      <th>2</th>\n",
       "      <td>35170181#0#5_1</td>\n",
       "      <td>The best dessert[comma] a chocolate and peanut...</td>\n",
       "      <td>chocolate and peanut butter tart</td>\n",
       "      <td>20--52</td>\n",
       "    </tr>\n",
       "    <tr>\n",
       "      <th>3</th>\n",
       "      <td>33067279#1612676#1_1</td>\n",
       "      <td>The food was very good and I was pleasantly su...</td>\n",
       "      <td>vegan options</td>\n",
       "      <td>69--82</td>\n",
       "    </tr>\n",
       "    <tr>\n",
       "      <th>4</th>\n",
       "      <td>32882616#562969#3_0</td>\n",
       "      <td>I never had an orange donut before so I gave i...</td>\n",
       "      <td>orange donut</td>\n",
       "      <td>15--27</td>\n",
       "    </tr>\n",
       "  </tbody>\n",
       "</table>\n",
       "</div>"
      ],
      "text/plain": [
       "             example_id                                               text  \\\n",
       "0  32933228#1700177#1_2  I reccomend the fried pork dumplings[comma] th...   \n",
       "1   35820984#608922#3_0    The staff is very sharp and they look good too.   \n",
       "2        35170181#0#5_1  The best dessert[comma] a chocolate and peanut...   \n",
       "3  33067279#1612676#1_1  The food was very good and I was pleasantly su...   \n",
       "4   32882616#562969#3_0  I never had an orange donut before so I gave i...   \n",
       "\n",
       "                        aspect_term term_location  \n",
       "0                        fried rice        71--81  \n",
       "1                             staff          4--9  \n",
       "2  chocolate and peanut butter tart        20--52  \n",
       "3                     vegan options        69--82  \n",
       "4                      orange donut        15--27  "
      ]
     },
     "execution_count": 3,
     "metadata": {},
     "output_type": "execute_result"
    }
   ],
   "source": [
    "# importing testing data\n",
    "df_test2 = pd.read_csv('restaurant_test.csv')\n",
    "df_test2.columns = ['example_id','text','aspect_term','term_location']\n",
    "df_test2.head()"
   ]
  },
  {
   "cell_type": "code",
   "execution_count": 4,
   "metadata": {},
   "outputs": [],
   "source": [
    "def text_prep(text):\n",
    "    text = text.replace(\"[comma]\", \"\")\n",
    "    no_punct = [char for char in text if char not in string.punctuation]\n",
    "    text = \"\".join(no_punct)\n",
    "    # Using lemmatization instead of stemming\n",
    "    text = [WordNetLemmatizer().lemmatize(text, pos='v') for text in text.lower().split() if text not in set(stopwords.words('english'))] \n",
    "    text = \" \".join(text)\n",
    "    return word_tokenize(text)"
   ]
  },
  {
   "cell_type": "code",
   "execution_count": 5,
   "metadata": {},
   "outputs": [],
   "source": [
    "def get_weights(x):\n",
    "    text = x[0]\n",
    "    aspect = x[1]\n",
    "    if set(aspect) <= set(text):\n",
    "        left_weights = right_weights = []\n",
    "        start_list= [i for i, x in enumerate(text) if x == aspect[0]]\n",
    "        for q in (start_list):\n",
    "            if  text[(q + len(aspect) - 1)] == aspect[-1]:\n",
    "                start_index = q\n",
    "                end_index = q + len(aspect) - 1\n",
    "                break\n",
    "        if (end_index - start_index) == len(aspect) - 1:\n",
    "            left_text = text[:start_index]\n",
    "            right_text = text[end_index+1:]\n",
    "            left_weights = [1/i for i in range(len(left_text),0,-1) if len(left_text) != 0]\n",
    "            right_weights = [1/i for i in range(1,len(right_text)+1) if len(right_text) != 0]\n",
    "        total_weights = left_weights + [2]*len(aspect) + right_weights\n",
    "        return dict(zip(text,total_weights))\n",
    "    else: \n",
    "        return np.nan"
   ]
  },
  {
   "cell_type": "markdown",
   "metadata": {},
   "source": [
    "## Data Preprocessing "
   ]
  },
  {
   "cell_type": "code",
   "execution_count": 6,
   "metadata": {},
   "outputs": [
    {
     "data": {
      "text/html": [
       "<div>\n",
       "<style scoped>\n",
       "    .dataframe tbody tr th:only-of-type {\n",
       "        vertical-align: middle;\n",
       "    }\n",
       "\n",
       "    .dataframe tbody tr th {\n",
       "        vertical-align: top;\n",
       "    }\n",
       "\n",
       "    .dataframe thead th {\n",
       "        text-align: right;\n",
       "    }\n",
       "</style>\n",
       "<table border=\"1\" class=\"dataframe\">\n",
       "  <thead>\n",
       "    <tr style=\"text-align: right;\">\n",
       "      <th></th>\n",
       "      <th>prep_text</th>\n",
       "      <th>prep_aspect_term</th>\n",
       "    </tr>\n",
       "  </thead>\n",
       "  <tbody>\n",
       "    <tr>\n",
       "      <th>0</th>\n",
       "      <td>[staff, horrible, us]</td>\n",
       "      <td>[staff]</td>\n",
       "    </tr>\n",
       "    <tr>\n",
       "      <th>1</th>\n",
       "      <td>[completely, fair, redeem, factor, food, avera...</td>\n",
       "      <td>[food]</td>\n",
       "    </tr>\n",
       "    <tr>\n",
       "      <th>2</th>\n",
       "      <td>[food, uniformly, exceptional, capable, kitche...</td>\n",
       "      <td>[food]</td>\n",
       "    </tr>\n",
       "    <tr>\n",
       "      <th>3</th>\n",
       "      <td>[food, uniformly, exceptional, capable, kitche...</td>\n",
       "      <td>[kitchen]</td>\n",
       "    </tr>\n",
       "    <tr>\n",
       "      <th>4</th>\n",
       "      <td>[food, uniformly, exceptional, capable, kitche...</td>\n",
       "      <td>[menu]</td>\n",
       "    </tr>\n",
       "  </tbody>\n",
       "</table>\n",
       "</div>"
      ],
      "text/plain": [
       "                                           prep_text prep_aspect_term\n",
       "0                              [staff, horrible, us]          [staff]\n",
       "1  [completely, fair, redeem, factor, food, avera...           [food]\n",
       "2  [food, uniformly, exceptional, capable, kitche...           [food]\n",
       "3  [food, uniformly, exceptional, capable, kitche...        [kitchen]\n",
       "4  [food, uniformly, exceptional, capable, kitche...           [menu]"
      ]
     },
     "execution_count": 6,
     "metadata": {},
     "output_type": "execute_result"
    }
   ],
   "source": [
    "# preprocess text and aspect_term columns\n",
    "df['prep_text'] = df['text'].apply(text_prep)\n",
    "df['prep_aspect_term'] = df['aspect_term'].apply(text_prep)\n",
    "df[['prep_text', 'prep_aspect_term']].head()"
   ]
  },
  {
   "cell_type": "code",
   "execution_count": 7,
   "metadata": {},
   "outputs": [
    {
     "data": {
      "text/html": [
       "<div>\n",
       "<style scoped>\n",
       "    .dataframe tbody tr th:only-of-type {\n",
       "        vertical-align: middle;\n",
       "    }\n",
       "\n",
       "    .dataframe tbody tr th {\n",
       "        vertical-align: top;\n",
       "    }\n",
       "\n",
       "    .dataframe thead th {\n",
       "        text-align: right;\n",
       "    }\n",
       "</style>\n",
       "<table border=\"1\" class=\"dataframe\">\n",
       "  <thead>\n",
       "    <tr style=\"text-align: right;\">\n",
       "      <th></th>\n",
       "      <th>prep_test2_text</th>\n",
       "      <th>prep_test2_aspect_term</th>\n",
       "    </tr>\n",
       "  </thead>\n",
       "  <tbody>\n",
       "    <tr>\n",
       "      <th>0</th>\n",
       "      <td>[reccomend, fry, pork, dumplings, orange, chic...</td>\n",
       "      <td>[fry, rice]</td>\n",
       "    </tr>\n",
       "    <tr>\n",
       "      <th>1</th>\n",
       "      <td>[staff, sharp, look, good]</td>\n",
       "      <td>[staff]</td>\n",
       "    </tr>\n",
       "    <tr>\n",
       "      <th>2</th>\n",
       "      <td>[best, dessert, chocolate, peanut, butter, tar...</td>\n",
       "      <td>[chocolate, peanut, butter, tart]</td>\n",
       "    </tr>\n",
       "    <tr>\n",
       "      <th>3</th>\n",
       "      <td>[food, good, pleasantly, surprise, see, many, ...</td>\n",
       "      <td>[vegan, options]</td>\n",
       "    </tr>\n",
       "    <tr>\n",
       "      <th>4</th>\n",
       "      <td>[never, orange, donut, give, shoot]</td>\n",
       "      <td>[orange, donut]</td>\n",
       "    </tr>\n",
       "  </tbody>\n",
       "</table>\n",
       "</div>"
      ],
      "text/plain": [
       "                                     prep_test2_text  \\\n",
       "0  [reccomend, fry, pork, dumplings, orange, chic...   \n",
       "1                         [staff, sharp, look, good]   \n",
       "2  [best, dessert, chocolate, peanut, butter, tar...   \n",
       "3  [food, good, pleasantly, surprise, see, many, ...   \n",
       "4                [never, orange, donut, give, shoot]   \n",
       "\n",
       "              prep_test2_aspect_term  \n",
       "0                        [fry, rice]  \n",
       "1                            [staff]  \n",
       "2  [chocolate, peanut, butter, tart]  \n",
       "3                   [vegan, options]  \n",
       "4                    [orange, donut]  "
      ]
     },
     "execution_count": 7,
     "metadata": {},
     "output_type": "execute_result"
    }
   ],
   "source": [
    "# preprocessing test data\n",
    "df_test2['prep_test2_text'] = df_test2['text'].apply(text_prep)\n",
    "df_test2['prep_test2_aspect_term'] = df_test2['aspect_term'].apply(text_prep)\n",
    "df_test2[['prep_test2_text', 'prep_test2_aspect_term']].head()"
   ]
  },
  {
   "cell_type": "markdown",
   "metadata": {},
   "source": [
    "## Assigning weights"
   ]
  },
  {
   "cell_type": "code",
   "execution_count": 8,
   "metadata": {},
   "outputs": [
    {
     "data": {
      "text/plain": [
       "{u'average': 1,\n",
       " u'completely': 0,\n",
       " u'couldnt': 0,\n",
       " u'deficiencies': 0,\n",
       " u'factor': 1,\n",
       " u'fair': 0,\n",
       " u'food': 2,\n",
       " u'make': 0,\n",
       " u'redeem': 0,\n",
       " u'teodora': 0}"
      ]
     },
     "execution_count": 8,
     "metadata": {},
     "output_type": "execute_result"
    }
   ],
   "source": [
    "# weighing training data\n",
    "df['weights_score'] = df[['prep_text','prep_aspect_term']].apply(get_weights, axis = 1)\n",
    "df = df.dropna()\n",
    "df.iloc[1]['weights_score']"
   ]
  },
  {
   "cell_type": "code",
   "execution_count": 9,
   "metadata": {},
   "outputs": [
    {
     "data": {
      "text/plain": [
       "{u'chickenbeef': 1,\n",
       " u'dumplings': 0,\n",
       " u'fry': 2,\n",
       " u'orange': 0,\n",
       " u'pork': 0,\n",
       " u'reccomend': 0,\n",
       " u'rice': 2}"
      ]
     },
     "execution_count": 9,
     "metadata": {},
     "output_type": "execute_result"
    }
   ],
   "source": [
    "# weighing testest data\n",
    "df_test2['test2_weights_score'] = df_test2[['prep_test2_text','prep_test2_aspect_term']].apply(get_weights, axis = 1)\n",
    "df_test2 = df_test2.dropna()\n",
    "df_test2.iloc[0]['test2_weights_score']"
   ]
  },
  {
   "cell_type": "markdown",
   "metadata": {},
   "source": [
    "## Vectorizing data using CountVectorizer and Tf-idf Transformer "
   ]
  },
  {
   "cell_type": "code",
   "execution_count": 10,
   "metadata": {},
   "outputs": [],
   "source": [
    "# training data vectorized\n",
    "vec = CountVectorizer()\n",
    "doc_matrix = vec.fit_transform(df['text'])\n",
    "vocab = list(vec.vocabulary_.keys())\n",
    "df_weights = pd.DataFrame(np.zeros((len(df),len(vocab))),columns=vocab)\n",
    "for row in range(len(df)):\n",
    "    for key,value in df.iloc[row]['weights_score'].items():\n",
    "        df_weights.iloc[row][key] = value\n",
    "        \n",
    "tfidf_vec = TfidfTransformer()\n",
    "tfidf = tfidf_vec.fit_transform(df_weights)"
   ]
  },
  {
   "cell_type": "code",
   "execution_count": 11,
   "metadata": {},
   "outputs": [],
   "source": [
    "# testing data vectorized\n",
    "test2_doc_matrix = vec.transform(df_test2['text'])\n",
    "test2_vocab = list(vec.vocabulary_.keys())\n",
    "df_test2_weights = pd.DataFrame(np.zeros((len(df_test2),len(test2_vocab))),columns=test2_vocab)\n",
    "for row in range(len(df_test2)):\n",
    "    for key,value in df_test2.iloc[row]['test2_weights_score'].items():\n",
    "        df_test2_weights.iloc[row][key] = value\n",
    "\n",
    "test2_tfidf = tfidf_vec.transform(df_test2_weights)"
   ]
  },
  {
   "cell_type": "markdown",
   "metadata": {},
   "source": [
    "## Random Forest as final model "
   ]
  },
  {
   "cell_type": "code",
   "execution_count": 12,
   "metadata": {},
   "outputs": [
    {
     "data": {
      "text/plain": [
       "0.6270571827057183"
      ]
     },
     "execution_count": 12,
     "metadata": {},
     "output_type": "execute_result"
    }
   ],
   "source": [
    "# Choosing Random Forest as our final model\n",
    "rfc = RandomForestClassifier(n_estimators=50,max_depth=2000)\n",
    "crv_rfc = cross_val_predict(rfc,tfidf,df['class'],cv = 10)\n",
    "np.mean(crv_rfc == df['class'])"
   ]
  },
  {
   "cell_type": "code",
   "execution_count": 13,
   "metadata": {},
   "outputs": [
    {
     "name": "stdout",
     "output_type": "stream",
     "text": [
      "('\\n Classification Report \\n ', u'              precision    recall  f1-score   support\\n\\n          -1       0.37      0.46      0.41       640\\n           0       0.27      0.45      0.34       384\\n           1       0.83      0.70      0.76      2561\\n\\n   micro avg       0.63      0.63      0.63      3585\\n   macro avg       0.49      0.53      0.50      3585\\nweighted avg       0.69      0.63      0.65      3585\\n')\n"
     ]
    }
   ],
   "source": [
    "Y = df['class']\n",
    "print(\"\\n Classification Report \\n \", classification_report(crv_rfc,Y))\n",
    "rfc = RandomForestClassifier(n_estimators=50,max_depth=2000).fit(tfidf, df['class'])\n",
    "test_rfc = rfc.predict(test2_tfidf)"
   ]
  },
  {
   "cell_type": "markdown",
   "metadata": {},
   "source": [
    "## Output file"
   ]
  },
  {
   "cell_type": "code",
   "execution_count": 14,
   "metadata": {},
   "outputs": [],
   "source": [
    "# Please remember to delete the txt file created before otherwise it will append to the previous results\n",
    "\n",
    "with open('Result.txt', 'a') as out:\n",
    "    for i,j in zip(df_test2['example_id'],test_rfc):\n",
    "        out.write(str(i) + \";;\" + str(j) + \"\\n\")"
   ]
  },
  {
   "cell_type": "markdown",
   "metadata": {},
   "source": [
    "## Multinomial Naive Bayes"
   ]
  },
  {
   "cell_type": "code",
   "execution_count": 15,
   "metadata": {},
   "outputs": [
    {
     "data": {
      "text/plain": [
       "0.6167364016736402"
      ]
     },
     "execution_count": 15,
     "metadata": {},
     "output_type": "execute_result"
    }
   ],
   "source": [
    "mnb = MultinomialNB()\n",
    "crv_mnb = cross_val_predict(mnb,tfidf,df['class'],cv = 10)\n",
    "np.mean(crv_mnb == df['class'])\n"
   ]
  },
  {
   "cell_type": "code",
   "execution_count": 16,
   "metadata": {},
   "outputs": [
    {
     "name": "stdout",
     "output_type": "stream",
     "text": [
      "('\\n Classification Report \\n ', u'              precision    recall  f1-score   support\\n\\n          -1       0.07      0.67      0.13        87\\n           0       0.03      0.52      0.07        42\\n           1       0.99      0.62      0.76      3456\\n\\n   micro avg       0.62      0.62      0.62      3585\\n   macro avg       0.37      0.60      0.32      3585\\nweighted avg       0.96      0.62      0.74      3585\\n')\n"
     ]
    }
   ],
   "source": [
    "Y = df['class']\n",
    "print(\"\\n Classification Report \\n \", classification_report(crv_mnb,Y))"
   ]
  },
  {
   "cell_type": "markdown",
   "metadata": {},
   "source": [
    "## Linear Support Vector Machine"
   ]
  },
  {
   "cell_type": "code",
   "execution_count": 17,
   "metadata": {},
   "outputs": [
    {
     "data": {
      "text/plain": [
       "0.6440725244072525"
      ]
     },
     "execution_count": 17,
     "metadata": {},
     "output_type": "execute_result"
    }
   ],
   "source": [
    "svm = LinearSVC()\n",
    "crv_svm = cross_val_predict(svm,tfidf,df['class'],cv = 10)\n",
    "np.mean(crv_svm == df['class'])\n"
   ]
  },
  {
   "cell_type": "code",
   "execution_count": 18,
   "metadata": {},
   "outputs": [
    {
     "name": "stdout",
     "output_type": "stream",
     "text": [
      "('\\n Classification Report \\n ', u'              precision    recall  f1-score   support\\n\\n          -1       0.36      0.52      0.42       557\\n           0       0.30      0.44      0.35       433\\n           1       0.85      0.71      0.77      2595\\n\\n   micro avg       0.64      0.64      0.64      3585\\n   macro avg       0.50      0.55      0.52      3585\\nweighted avg       0.71      0.64      0.67      3585\\n')\n"
     ]
    }
   ],
   "source": [
    "Y = df['class']\n",
    "print(\"\\n Classification Report \\n \", classification_report(crv_svm,Y))"
   ]
  },
  {
   "cell_type": "code",
   "execution_count": null,
   "metadata": {},
   "outputs": [],
   "source": []
  }
 ],
 "metadata": {
  "kernelspec": {
   "display_name": "Python 3",
   "language": "python",
   "name": "python3"
  },
  "language_info": {
   "codemirror_mode": {
    "name": "ipython",
    "version": 2
   },
   "file_extension": ".py",
   "mimetype": "text/x-python",
   "name": "python",
   "nbconvert_exporter": "python",
   "pygments_lexer": "ipython2",
   "version": "2.7.15"
  }
 },
 "nbformat": 4,
 "nbformat_minor": 2
}
